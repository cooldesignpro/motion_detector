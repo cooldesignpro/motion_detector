{
 "cells": [
  {
   "cell_type": "code",
   "execution_count": 5,
   "id": "c563a1ff-bc68-4359-8f76-93659528f588",
   "metadata": {},
   "outputs": [
    {
     "data": {
      "text/plain": [
       "(3, 4, 5)"
      ]
     },
     "execution_count": 5,
     "metadata": {},
     "output_type": "execute_result"
    }
   ],
   "source": [
    "tup = tuple({3,4,5})\n",
    "tup"
   ]
  },
  {
   "cell_type": "code",
   "execution_count": 7,
   "id": "7e7ec9d4-1163-4020-be81-0099d62347a6",
   "metadata": {},
   "outputs": [
    {
     "data": {
      "text/plain": [
       "4"
      ]
     },
     "execution_count": 7,
     "metadata": {},
     "output_type": "execute_result"
    }
   ],
   "source": [
    "a, b, c = (4,6,7)\n",
    "a"
   ]
  },
  {
   "cell_type": "code",
   "execution_count": 17,
   "id": "d9e5cd30-7158-498a-bfc2-9522db7634b5",
   "metadata": {},
   "outputs": [
    {
     "name": "stdout",
     "output_type": "stream",
     "text": [
      "a=1, b=2, c=3\n",
      "a=4, b=5, c=6\n",
      "a=7, b=8, c=9\n"
     ]
    }
   ],
   "source": [
    "seq = [(1, 2, 3), (4, 5, 6), (7, 8, 9)]\n",
    "for i, j, k in seq:\n",
    "    #print('a={0}, b={1}, c={2}'.format(i,j,k))\n",
    "    print(f'a={i}, b={j}, c={k}')"
   ]
  },
  {
   "cell_type": "code",
   "execution_count": 24,
   "id": "fb068f9d-4e66-4ec6-bd25-97be000569da",
   "metadata": {},
   "outputs": [
    {
     "name": "stdout",
     "output_type": "stream",
     "text": [
      "[3, 4, 5]\n"
     ]
    }
   ],
   "source": [
    "values = 1, 2, 3, 4, 5\n",
    "a, b, *_ = values\n",
    "print(_)"
   ]
  },
  {
   "cell_type": "code",
   "execution_count": 36,
   "id": "3883f9fe-5499-4247-a583-b7e46848da37",
   "metadata": {},
   "outputs": [
    {
     "data": {
      "text/plain": [
       "30000"
      ]
     },
     "execution_count": 36,
     "metadata": {},
     "output_type": "execute_result"
    }
   ],
   "source": [
    "a = range(30000)\n",
    "list(a)\n",
    "dir(a)\n",
    "a.count(29000)\n",
    "len(a)"
   ]
  },
  {
   "cell_type": "code",
   "execution_count": 55,
   "id": "f2a4c616-8ffa-429a-8d3b-0e399d23a720",
   "metadata": {},
   "outputs": [
    {
     "data": {
      "text/plain": [
       "['foo', 'peekaboo', 'baz', 'dwarf', 'hello']"
      ]
     },
     "execution_count": 55,
     "metadata": {},
     "output_type": "execute_result"
    }
   ],
   "source": [
    "a_list = ['foo', 'peekaboo', 'baz', 'dwarf']\n",
    "a_list.insert(4, \"hello\")\n",
    "a_list"
   ]
  },
  {
   "cell_type": "code",
   "execution_count": 56,
   "id": "d39a7548-005c-44b5-af55-c028489802ff",
   "metadata": {},
   "outputs": [
    {
     "data": {
      "text/plain": [
       "[2, 3, 7, 5]"
      ]
     },
     "execution_count": 56,
     "metadata": {},
     "output_type": "execute_result"
    }
   ],
   "source": [
    "seq = [7, 2, 3, 7, 5, 6, 0, 1]\n",
    "seq[1:5]"
   ]
  },
  {
   "cell_type": "code",
   "execution_count": 58,
   "id": "13ecf446-1e85-4676-bbc6-cf8ba50b3664",
   "metadata": {},
   "outputs": [
    {
     "data": {
      "text/plain": [
       "'el'"
      ]
     },
     "execution_count": 58,
     "metadata": {},
     "output_type": "execute_result"
    }
   ],
   "source": [
    "hel = 'hello!'\n",
    "hel[-5:-3]"
   ]
  },
  {
   "cell_type": "code",
   "execution_count": 76,
   "id": "cfca3585-53d9-4161-9c91-49f32e92f20e",
   "metadata": {},
   "outputs": [
    {
     "name": "stdout",
     "output_type": "stream",
     "text": [
      "(0, 'foo')\n",
      "(1, 'peekaboo')\n",
      "(2, 'baz')\n",
      "(3, 'dwarf')\n",
      "{'foo': 0, 'peekaboo': 1, 'baz': 2, 'dwarf': 3}\n"
     ]
    }
   ],
   "source": [
    "a_list = ['foo', 'peekaboo', 'baz', 'dwarf']\n",
    "some_tup = ('foo', 'peekaboo', 'baz', 'tall')\n",
    "\n",
    "mapping = {}\n",
    "for i, j in enumerate(a_list):\n",
    "    print((i, j))\n",
    "    mapping[j] = i\n",
    "\n",
    "print(mapping)"
   ]
  },
  {
   "cell_type": "code",
   "execution_count": 77,
   "id": "3a8aa555-0832-4a6a-9c58-d0be872d42a3",
   "metadata": {},
   "outputs": [
    {
     "data": {
      "text/plain": [
       "[0, 1, 2, 2, 3, 6, 7]"
      ]
     },
     "execution_count": 77,
     "metadata": {},
     "output_type": "execute_result"
    }
   ],
   "source": [
    "sorted([7, 1, 2, 6, 0, 3, 2])\n"
   ]
  },
  {
   "cell_type": "code",
   "execution_count": 81,
   "id": "bdcb08f4-306f-4d9b-a93a-6ea003558687",
   "metadata": {},
   "outputs": [
    {
     "data": {
      "text/plain": [
       "[('one', 'foo'), ('two', 'bar'), ('three', 'baz')]"
      ]
     },
     "execution_count": 81,
     "metadata": {},
     "output_type": "execute_result"
    }
   ],
   "source": [
    "seq1 = ['foo', 'bar', 'baz']\n",
    "seq2 = ['one', 'two', 'three']\n",
    "zipped = zip(seq2, seq1)\n",
    "list(zipped)"
   ]
  },
  {
   "cell_type": "code",
   "execution_count": 90,
   "id": "c9fd9f0c-f1a4-42a4-bb9d-285b583654fc",
   "metadata": {},
   "outputs": [
    {
     "name": "stdout",
     "output_type": "stream",
     "text": [
      "['Nolan', 'Roger', 'Curt']\n",
      "['Ryan', 'Clemens', 'Schilling']\n"
     ]
    }
   ],
   "source": [
    "pitchers = [('Nolan', 'Ryan'), ('Roger', 'Clemens'),('Curt', 'Schilling')]\n",
    "# first, last = zip(*pitchers)\n",
    "first = []\n",
    "second = []\n",
    "for i,j in pitchers:\n",
    "    first.append(i)\n",
    "    second.append(j)\n",
    "\n",
    "print(first)\n",
    "print(second)\n",
    "    "
   ]
  },
  {
   "cell_type": "code",
   "execution_count": 93,
   "id": "618ae294-d51e-496b-93ff-1bbb8d1bac75",
   "metadata": {},
   "outputs": [
    {
     "data": {
      "text/plain": [
       "('Ryan', 'Clemens', 'Schilling')"
      ]
     },
     "execution_count": 93,
     "metadata": {},
     "output_type": "execute_result"
    }
   ],
   "source": [
    "fname, lname = zip(*pitchers)\n",
    "lname"
   ]
  },
  {
   "cell_type": "code",
   "execution_count": 102,
   "id": "ed989e9f-d3a4-4854-a2b6-c7e6dc21f33c",
   "metadata": {},
   "outputs": [
    {
     "data": {
      "text/plain": [
       "<list_reverseiterator at 0x1dd22ca31f0>"
      ]
     },
     "execution_count": 102,
     "metadata": {},
     "output_type": "execute_result"
    }
   ],
   "source": [
    "list(range(10))\n",
    "reversed([0, 1, 2, 3, 4, 5, 6, 7, 8, 9])"
   ]
  },
  {
   "cell_type": "code",
   "execution_count": 104,
   "id": "cf6ef10c-ecfc-4687-af05-3d0630cc82c1",
   "metadata": {},
   "outputs": [
    {
     "data": {
      "text/plain": [
       "[4, 3, 2, 1, 0]"
      ]
     },
     "execution_count": 104,
     "metadata": {},
     "output_type": "execute_result"
    }
   ],
   "source": [
    "list(reversed(range(5)))"
   ]
  },
  {
   "cell_type": "code",
   "execution_count": 117,
   "id": "ece94d23-9ba2-400e-80b3-69c97014d310",
   "metadata": {},
   "outputs": [
    {
     "name": "stdout",
     "output_type": "stream",
     "text": [
      "a\n",
      "b\n",
      "b\n",
      "a\n",
      "b\n",
      "{'a': ['apple', 'atom'], 'b': ['apple', 'atom']}\n"
     ]
    }
   ],
   "source": [
    "words = ['apple', 'bat', 'bar', 'atom', 'book']\n",
    "by_letter = {}\n",
    "words_list_a = []\n",
    "words_list_b = []\n",
    "for word in words:\n",
    "    letter = word[0]\n",
    "    print(letter)\n",
    "    if letter == 'a':\n",
    "        words_list_a.append(word)\n",
    "        by_letter.update({letter: words_list_a})\n",
    "    elif letter == 'b':\n",
    "        words_list_b.append(word)\n",
    "        by_letter.update({letter: words_list_b})\n",
    "    \n",
    "print(by_letter)"
   ]
  }
 ],
 "metadata": {
  "kernelspec": {
   "display_name": "Python 3 (ipykernel)",
   "language": "python",
   "name": "python3"
  },
  "language_info": {
   "codemirror_mode": {
    "name": "ipython",
    "version": 3
   },
   "file_extension": ".py",
   "mimetype": "text/x-python",
   "name": "python",
   "nbconvert_exporter": "python",
   "pygments_lexer": "ipython3",
   "version": "3.12.10"
  }
 },
 "nbformat": 4,
 "nbformat_minor": 5
}
